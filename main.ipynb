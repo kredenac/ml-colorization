{
 "cells": [
  {
   "cell_type": "code",
   "execution_count": 1,
   "metadata": {},
   "outputs": [],
   "source": [
    "import cv2\n",
    "import matplotlib.pyplot as plt\n",
    "from matplotlib.colors import hsv_to_rgb\n",
    "import numpy as np\n",
    "import tensorflow as tf\n",
    "from tensorflow.keras.callbacks import TensorBoard\n",
    "import time \n",
    "from tensorflow.keras.models import Sequential\n",
    "from tensorflow.keras.layers import Dense, Activation, Flatten\n",
    "from tensorflow.keras.regularizers import l2"
   ]
  },
  {
   "cell_type": "code",
   "execution_count": 2,
   "metadata": {},
   "outputs": [],
   "source": [
    "def showHsv(img):    \n",
    "    img = cv2.cvtColor(hsv, cv2.COLOR_HSV2RGB)\n",
    "    plt.imshow(img)\n",
    "    plt.show()"
   ]
  },
  {
   "cell_type": "code",
   "execution_count": 92,
   "metadata": {},
   "outputs": [
    {
     "name": "stdout",
     "output_type": "stream",
     "text": [
      "(1008, 1600, 3)\n",
      "image with its value untouched, but saturation and hue randomized:\n"
     ]
    }
   ],
   "source": [
    "img_in = cv2.imread('pic.jpg')\n",
    "hsv = cv2.cvtColor(img_in, cv2.COLOR_BGR2HSV)\n",
    "print(hsv.shape)\n",
    "\n",
    "h,s,v = cv2.split(hsv)\n",
    "#print('s',s.shape)\n",
    "s = (np.random.random(s.shape) * 255).astype('uint8')\n",
    "h = (np.random.random(s.shape) * 255).astype('uint8')\n",
    "#s = np.maximum(0, v)\n",
    "#print(s)\n",
    "hsv = cv2.merge([h,s,v])\n",
    "print('image with its value untouched, but saturation and hue randomized:')\n",
    "#showHsv(hsv)\n",
    "\n",
    "\n",
    "\n"
   ]
  },
  {
   "cell_type": "code",
   "execution_count": null,
   "metadata": {},
   "outputs": [],
   "source": [
    "for i in range(3):\n",
    "    pic = hsv[:,:,i]\n",
    "    plt.imshow(pic, cmap='gray')\n",
    "    plt.show()"
   ]
  },
  {
   "cell_type": "code",
   "execution_count": 98,
   "metadata": {},
   "outputs": [],
   "source": [
    "sess = tf.Session(config=tf.ConfigProto(log_device_placement=True))\n"
   ]
  },
  {
   "cell_type": "code",
   "execution_count": 99,
   "metadata": {},
   "outputs": [
    {
     "name": "stdout",
     "output_type": "stream",
     "text": [
      "(10000, 2)\n",
      "(10000,) (10000,)\n",
      "(10000, 2)\n"
     ]
    }
   ],
   "source": [
    "n = 10000\n",
    "X = np.arange(n).reshape(n,1)\n",
    "X = np.hstack((np.ones(n).reshape(n,1), X))\n",
    "print(X.shape)\n",
    "y = np.random.randn(n)*50 + X[:, 1]\n",
    "#y = y.reshape(n,1)\n",
    "print(y.shape, X[:,1].shape)\n",
    "#print(y)\n",
    "#plt.plot(X[:,1], y)\n",
    "yval = y\n",
    "X = np.hstack((X, yval[:,None]))\n",
    "# labels: 1 if above line, 0  below\n",
    "y = y > X[:,1]\n",
    "y = y.reshape(n,1)\n",
    "y = np.hstack((y, ~y )).astype('uint8')\n",
    "print(y.shape)\n",
    "colors = ['red' if i  else 'green' for i in y[:,0]]\n",
    "#plt.scatter(X[:,1], yval, color=colors)\n",
    "#plt.show()\n",
    "#print(y)\n",
    "#print(X)\n"
   ]
  },
  {
   "cell_type": "code",
   "execution_count": 107,
   "metadata": {},
   "outputs": [],
   "source": [
    "def createTestModel(layers):\n",
    "    model = Sequential()\n",
    "    #print(X.shape[1])\n",
    "    model.add(Dense(layers[0], input_dim=X.shape[1], kernel_regularizer=l2(0.001)) ) \n",
    "    model.add(Activation('relu'))\n",
    "    for l in layers[1:]:\n",
    "        model.add(Dense(l, kernel_regularizer=l2(0.001)))\n",
    "        model.add(Activation('relu'))\n",
    "    model.add(Dense(2))\n",
    "    model.add(Activation('sigmoid'))\n",
    "\n",
    "    model.compile(loss='binary_crossentropy',\n",
    "                  optimizer='adam',\n",
    "                 metrics=['accuracy'])\n",
    "    return model"
   ]
  },
  {
   "cell_type": "code",
   "execution_count": 108,
   "metadata": {},
   "outputs": [
    {
     "name": "stdout",
     "output_type": "stream",
     "text": [
      "test-tensorboard-10-03-2019-21-08-58-layers-5x5\n",
      "Train on 8000 samples, validate on 2000 samples\n",
      "Epoch 1/10\n",
      "8000/8000 [==============================] - 1s 175us/step - loss: 6.1578 - acc: 0.5942 - val_loss: 4.1674 - val_acc: 0.6843\n",
      "Epoch 2/10\n",
      "8000/8000 [==============================] - 1s 101us/step - loss: 3.5986 - acc: 0.6674 - val_loss: 2.5547 - val_acc: 0.4908\n",
      "Epoch 3/10\n",
      "8000/8000 [==============================] - 1s 120us/step - loss: 0.5101 - acc: 0.7586 - val_loss: 0.2555 - val_acc: 0.9100\n",
      "Epoch 4/10\n",
      "8000/8000 [==============================] - 1s 118us/step - loss: 0.2129 - acc: 0.9332 - val_loss: 0.2213 - val_acc: 0.9305\n",
      "Epoch 5/10\n",
      "8000/8000 [==============================] - 1s 117us/step - loss: 0.0925 - acc: 0.9715 - val_loss: 0.0707 - val_acc: 0.9758\n",
      "Epoch 6/10\n",
      "8000/8000 [==============================] - 1s 110us/step - loss: 0.0992 - acc: 0.9677 - val_loss: 0.0640 - val_acc: 0.9818\n",
      "Epoch 7/10\n",
      "8000/8000 [==============================] - 1s 115us/step - loss: 0.0964 - acc: 0.9691 - val_loss: 0.1127 - val_acc: 0.9435\n",
      "Epoch 8/10\n",
      "8000/8000 [==============================] - 1s 118us/step - loss: 0.0864 - acc: 0.9726 - val_loss: 0.2298 - val_acc: 0.9000\n",
      "Epoch 9/10\n",
      "8000/8000 [==============================] - 1s 107us/step - loss: 0.1040 - acc: 0.9648 - val_loss: 0.1623 - val_acc: 0.9330\n",
      "Epoch 10/10\n",
      "8000/8000 [==============================] - 1s 102us/step - loss: 0.1126 - acc: 0.9590 - val_loss: 0.2496 - val_acc: 0.8915\n"
     ]
    },
    {
     "data": {
      "text/plain": [
       "<tensorflow.python.keras.callbacks.History at 0x17cab017cf8>"
      ]
     },
     "execution_count": 108,
     "metadata": {},
     "output_type": "execute_result"
    }
   ],
   "source": [
    "currTime = time.strftime(\"%d-%m-%Y-%H-%M-%S\", time.localtime())\n",
    "layers = [5,5]\n",
    "NAME = f\"test-tensorboard-{ currTime }-layers-\" + \"x\".join(str(l) for l in layers)\n",
    "print(NAME)\n",
    "\n",
    "model = createTestModel(layers)\n",
    "tensorboard = TensorBoard(log_dir=f'logs/{NAME}')\n",
    "model.fit(X, y, batch_size=32, epochs=10, validation_split=0.2, callbacks=[tensorboard])"
   ]
  },
  {
   "cell_type": "code",
   "execution_count": 83,
   "metadata": {},
   "outputs": [
    {
     "name": "stdout",
     "output_type": "stream",
     "text": [
      "1000/1000 [==============================] - 0s 35us/step\n",
      "loss:0.12557350927591324\n",
      "accuracy:0.951\n",
      "num incorrect 48\n",
      "\n",
      "wrong pred: [1 1 1 1 1 1 1 1 1 1 1 1 1 1 1 1 1 1 1 1 1 1 1 1 1 1 1 1 1 1 1 1 1 1 1 1 1\n",
      " 1 1 1 1 1 1 1 1 1 1 1]\n"
     ]
    }
   ],
   "source": [
    "pred = model.predict_classes(X).reshape((-1,))\n",
    "pred = 1 - pred\n",
    "#print(pred)\n",
    "evaluation = model.evaluate(X, y)\n",
    "print(f'loss:{evaluation[0]}\\naccuracy:{evaluation[1]}')\n",
    "labels = y[:,0]\n",
    "#print(labels.shape, labels)\n",
    "incorrects = np.nonzero(np.not_equal(pred, labels) )\n",
    "print('num incorrect', len(incorrects[0]))\n",
    "#print('incorr:',incorrects)\n",
    "print('\\nwrong pred:', pred[incorrects])\n"
   ]
  },
  {
   "cell_type": "code",
   "execution_count": null,
   "metadata": {},
   "outputs": [],
   "source": []
  }
 ],
 "metadata": {
  "kernelspec": {
   "display_name": "Python 3",
   "language": "python",
   "name": "python3"
  },
  "language_info": {
   "codemirror_mode": {
    "name": "ipython",
    "version": 3
   },
   "file_extension": ".py",
   "mimetype": "text/x-python",
   "name": "python",
   "nbconvert_exporter": "python",
   "pygments_lexer": "ipython3",
   "version": "3.6.6"
  }
 },
 "nbformat": 4,
 "nbformat_minor": 2
}
