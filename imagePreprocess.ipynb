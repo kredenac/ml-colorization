{
 "cells": [
  {
   "cell_type": "code",
   "execution_count": 35,
   "metadata": {},
   "outputs": [],
   "source": [
    "import cv2\n",
    "import numpy as np\n",
    "import os\n",
    "from tqdm import tqdm"
   ]
  },
  {
   "cell_type": "code",
   "execution_count": 11,
   "metadata": {},
   "outputs": [],
   "source": [
    "def resizeImg(path):\n",
    "    img = cv2.imread(path)\n",
    "    x = 0\n",
    "    y = 0\n",
    "    width = 178\n",
    "    height = 218\n",
    "    hdiff = height - width \n",
    "    yfrom = hdiff//2 \n",
    "    yto = height-hdiff//2\n",
    "    wgoal = 128\n",
    "    hgoal = 128\n",
    "    #print(yfrom,yto,0,width)\n",
    "    newImg = img[yfrom:yto, 0:width]\n",
    "    newImg = cv2.resize(newImg, (wgoal, hgoal))\n",
    "    return newImg\n"
   ]
  },
  {
   "cell_type": "code",
   "execution_count": 25,
   "metadata": {},
   "outputs": [],
   "source": [
    "img = resizeImg(\"data/img_celeba/000437.jpg\")\n",
    "imageShape = img.shape"
   ]
  },
  {
   "cell_type": "code",
   "execution_count": 33,
   "metadata": {},
   "outputs": [],
   "source": [
    "source = 'data/img_celeba/'\n",
    "dest = 'data/npy/'\n"
   ]
  },
  {
   "cell_type": "code",
   "execution_count": 36,
   "metadata": {},
   "outputs": [
    {
     "name": "stderr",
     "output_type": "stream",
     "text": [
      "100%|████████████████████████████████████████████████████████████████████████| 202599/202599 [03:04<00:00, 1096.81it/s]\n"
     ]
    }
   ],
   "source": [
    "data_IDs = os.listdir(source)\n",
    "\n",
    "xSum = np.zeros(imageShape)\n",
    "xSumSquares = np.zeros(imageShape)\n",
    "\n",
    "for imgID in tqdm(data_IDs):\n",
    "    img = resizeImg(source+imgID)\n",
    "    #np.save(dest+imgID[:-4], img)\n",
    "    xSum += img\n",
    "    xSumSquares += img**2\n",
    "\n"
   ]
  },
  {
   "cell_type": "code",
   "execution_count": 43,
   "metadata": {},
   "outputs": [
    {
     "name": "stdout",
     "output_type": "stream",
     "text": [
      "9698819.0\n",
      "43135207.0\n",
      "4.447470047641883\n"
     ]
    }
   ],
   "source": [
    "print(np.min(xSum))\n",
    "print(np.max(xSum))\n",
    "print(np.max(xSum)/np.min(xSum))"
   ]
  },
  {
   "cell_type": "code",
   "execution_count": 51,
   "metadata": {},
   "outputs": [],
   "source": [
    "xAvg = xSum / len(data_IDs)\n",
    "xVar = xSumSquares/len(data_IDs) - xAvg**2"
   ]
  },
  {
   "cell_type": "code",
   "execution_count": 59,
   "metadata": {},
   "outputs": [
    {
     "name": "stdout",
     "output_type": "stream",
     "text": [
      "2183.3081726266396 45227.83199055002\n",
      "46.725883326338945 212.66836151752807\n"
     ]
    }
   ],
   "source": [
    "xVar = np.abs(xVar)\n",
    "print(xVar.min(), xVar.max())\n",
    "print(np.sqrt(xVar.min()), np.sqrt(xVar.max()) )"
   ]
  },
  {
   "cell_type": "code",
   "execution_count": null,
   "metadata": {},
   "outputs": [],
   "source": []
  }
 ],
 "metadata": {
  "kernelspec": {
   "display_name": "Python 3",
   "language": "python",
   "name": "python3"
  },
  "language_info": {
   "codemirror_mode": {
    "name": "ipython",
    "version": 3
   },
   "file_extension": ".py",
   "mimetype": "text/x-python",
   "name": "python",
   "nbconvert_exporter": "python",
   "pygments_lexer": "ipython3",
   "version": "3.6.6"
  }
 },
 "nbformat": 4,
 "nbformat_minor": 2
}
